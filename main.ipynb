{
  "nbformat": 4,
  "nbformat_minor": 0,
  "metadata": {
    "colab": {
      "provenance": [],
      "authorship_tag": "ABX9TyMM81wEvhJTxLzBijVqVQXP",
      "include_colab_link": true
    },
    "kernelspec": {
      "name": "python3",
      "display_name": "Python 3"
    },
    "language_info": {
      "name": "python"
    }
  },
  "cells": [
    {
      "cell_type": "markdown",
      "metadata": {
        "id": "view-in-github",
        "colab_type": "text"
      },
      "source": [
        "<a href=\"https://colab.research.google.com/github/jsebastianwrc/ProyectoFinal_IA_IS2/blob/main/main.ipynb\" target=\"_parent\"><img src=\"https://colab.research.google.com/assets/colab-badge.svg\" alt=\"Open In Colab\"/></a>"
      ]
    },
    {
      "cell_type": "code",
      "execution_count": 8,
      "metadata": {
        "id": "GZQD_rvhjA3r",
        "colab": {
          "base_uri": "https://localhost:8080/"
        },
        "outputId": "3ad2eb14-a011-4f98-82b8-1af807d4d5cc"
      },
      "outputs": [
        {
          "output_type": "stream",
          "name": "stdout",
          "text": [
            "                                 Title Seasons Episodes  \\\n",
            "0                        ¡Mucha Lucha!       3       52   \n",
            "1                                 10+2       1       52   \n",
            "2   100% Wolf: Legend of the Moonstone       2       26   \n",
            "3                          1001 Nights       2       52   \n",
            "4                 101 Dalmatian Street       1       40   \n",
            "..                                 ...     ...      ...   \n",
            "95                   Angry Birds Toons       3      104   \n",
            "96         Angry Birds: Summer Madness       3       36   \n",
            "97                           Angry Kid       4       66   \n",
            "98                     Animal Crackers       3       52   \n",
            "99                  Animal Mechanicals       3       37   \n",
            "\n",
            "                                           Country  Premiere Year Final Year  \\\n",
            "0                                    United States           2002       2005   \n",
            "1                                            Spain           1994       1994   \n",
            "2                                        Australia           2020    Present   \n",
            "3                                           Canada           2011       2012   \n",
            "4                           United Kingdom, Canada           2019       2020   \n",
            "..                                             ...            ...        ...   \n",
            "95                                         Finland           2013       2016   \n",
            "96  United Kingdom, United States, Canada, Finland           2022    Present   \n",
            "97                                              UK           1999       2007   \n",
            "98                                  Canada, France           1997       1997   \n",
            "99                                          Canada           2007       2011   \n",
            "\n",
            "                           Original Channel          Technique  \n",
            "0                                  Kids' WB              Flash  \n",
            "1              Televisió de Catalunya, KiKa        Traditional  \n",
            "2                                    ABC Me                CGI  \n",
            "3                                  Teletoon              Flash  \n",
            "4                   Disney Channel, Disney+  Toon Boom Harmony  \n",
            "..                                      ...                ...  \n",
            "95  ToonsTV, Discovey Kids (Latin American)  Flash/Traditional  \n",
            "96                                  Netflix              Flash  \n",
            "97                     Channel 4, BBC Three        Stop Motion  \n",
            "98                                 Teletoon        Traditional  \n",
            "99                Kids' CBC, Discovery Kids                CGI  \n",
            "\n",
            "[100 rows x 8 columns]\n"
          ]
        }
      ],
      "source": [
        "import pandas\n",
        "filename = '1987 - 2022.csv'\n",
        "data = pandas.read_csv(filename, header=0)\n",
        "\n",
        "print(data.head(100))"
      ]
    }
  ]
}