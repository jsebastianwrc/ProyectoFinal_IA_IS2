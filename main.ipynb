{
  "nbformat": 4,
  "nbformat_minor": 0,
  "metadata": {
    "colab": {
      "provenance": [],
      "toc_visible": true,
      "mount_file_id": "125y5uM0JYYFiYVCrjK4X3Z_iOL9XKMn5",
      "authorship_tag": "ABX9TyOPLX3KVgGTxpnIfV+AeGGY",
      "include_colab_link": true
    },
    "kernelspec": {
      "name": "python3",
      "display_name": "Python 3"
    },
    "language_info": {
      "name": "python"
    },
    "gpuClass": "standard"
  },
  "cells": [
    {
      "cell_type": "markdown",
      "metadata": {
        "id": "view-in-github",
        "colab_type": "text"
      },
      "source": [
        "<a href=\"https://colab.research.google.com/github/jsebastianwrc/ProyectoFinal_IA_IS2/blob/main/main.ipynb\" target=\"_parent\"><img src=\"https://colab.research.google.com/assets/colab-badge.svg\" alt=\"Open In Colab\"/></a>"
      ]
    },
    {
      "cell_type": "markdown",
      "source": [
        "Importamos la librerías necesarias para el proyecto"
      ],
      "metadata": {
        "id": "jPLLfAt35Qkl"
      }
    },
    {
      "cell_type": "code",
      "execution_count": 16,
      "metadata": {
        "id": "GZQD_rvhjA3r"
      },
      "outputs": [],
      "source": [
        "import numpy as np\n",
        "import pandas as pd \n",
        "import matplotlib\n",
        "from pandas_profiling import ProfileReport"
      ]
    },
    {
      "cell_type": "markdown",
      "source": [
        "Importamos el archivo CSV base del proyecto"
      ],
      "metadata": {
        "id": "6UUrdjsG5lIn"
      }
    },
    {
      "cell_type": "code",
      "source": [
        "data = pd.read_csv('/content/drive/MyDrive/resourses/1987 - 2022.csv', header=0)\n",
        "df = pd.DataFrame(data)"
      ],
      "metadata": {
        "id": "4SIwJ9jc5oyC"
      },
      "execution_count": null,
      "outputs": []
    },
    {
      "cell_type": "markdown",
      "source": [
        "Limpieza de datos"
      ],
      "metadata": {
        "id": "0pVwI0YJU_Y4"
      }
    },
    {
      "cell_type": "code",
      "source": [
        "# TBA meaning (To Be Announced)\n",
        "data.dtypes\n",
        "\n",
        "df.drop_duplicates('Title', inplace = True)\n",
        "df.drop(df[df['Seasons'] == 'TBA'].index, inplace = True)\n",
        "df.drop(df[df['Episodes'] == 'TBA'].index, inplace = True)\n",
        "df.drop(df[df['Original Channel'] == ' '].index, inplace = True)\n",
        "\n",
        "df.loc[df['Final Year'] == 'Present', 'Final Year'] = 2022\n",
        "df['Final Year'].astype(int)\n",
        "\n",
        "# Eliminamos las dos primeras columnas\n",
        "df2 = df.drop(df.columns[[0, 1]],axis = 1)"
      ],
      "metadata": {
        "id": "BHQ3R2z8VBdv"
      },
      "execution_count": null,
      "outputs": []
    }
  ]
}