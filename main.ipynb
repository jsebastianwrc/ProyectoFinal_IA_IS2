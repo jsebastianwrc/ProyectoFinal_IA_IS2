{
  "nbformat": 4,
  "nbformat_minor": 0,
  "metadata": {
    "colab": {
      "provenance": [],
      "mount_file_id": "125y5uM0JYYFiYVCrjK4X3Z_iOL9XKMn5",
      "authorship_tag": "ABX9TyNncTyuoq3SB9MhPiWZxWwV",
      "include_colab_link": true
    },
    "kernelspec": {
      "name": "python3",
      "display_name": "Python 3"
    },
    "language_info": {
      "name": "python"
    }
  },
  "cells": [
    {
      "cell_type": "markdown",
      "metadata": {
        "id": "view-in-github",
        "colab_type": "text"
      },
      "source": [
        "<a href=\"https://colab.research.google.com/github/jsebastianwrc/ProyectoFinal_IA_IS2/blob/main/main.ipynb\" target=\"_parent\"><img src=\"https://colab.research.google.com/assets/colab-badge.svg\" alt=\"Open In Colab\"/></a>"
      ]
    },
    {
      "cell_type": "markdown",
      "source": [
        "Importamos la librerías necesarias para el proyecto"
      ],
      "metadata": {
        "id": "jPLLfAt35Qkl"
      }
    },
    {
      "cell_type": "code",
      "execution_count": 2,
      "metadata": {
        "id": "GZQD_rvhjA3r"
      },
      "outputs": [],
      "source": [
        "import numpy as np\n",
        "import pandas as pd \n",
        "import matplotlib\n"
      ]
    },
    {
      "cell_type": "markdown",
      "source": [
        "Importamos el archivo CSV base del proyecto"
      ],
      "metadata": {
        "id": "6UUrdjsG5lIn"
      }
    },
    {
      "cell_type": "code",
      "source": [
        "data = pd.read_csv('/content/drive/MyDrive/Colab Notebooks/resourses/1987 - 2022.csv', header=0)\n",
        "print(data)"
      ],
      "metadata": {
        "id": "4SIwJ9jc5oyC"
      },
      "execution_count": null,
      "outputs": []
    }
  ]
}