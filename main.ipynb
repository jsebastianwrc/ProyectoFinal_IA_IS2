{
 "cells": [
  {
   "cell_type": "markdown",
   "metadata": {},
   "source": [
    "Necessary libraries"
   ]
  },
  {
   "cell_type": "code",
   "execution_count": null,
   "metadata": {},
   "outputs": [],
   "source": [
    "import numpy as np\n",
    "import pandas as pd\n",
    "import matplotlib.pyplot as plt\n",
    "\n",
    "from pandas_profiling import ProfileReport\n",
    "from sklearn.cluster import KMeans\n",
    "from sklearn.preprocessing import LabelEncoder"
   ]
  },
  {
   "cell_type": "code",
   "execution_count": null,
   "metadata": {},
   "outputs": [],
   "source": [
    "file_paths = ['resources/1948 - 1986.csv', 'resources/1987 - 2022.csv']\n",
    "data = pd.concat(map(pd.read_csv, file_paths))\n",
    "df = pd.DataFrame(data)\n",
    "df"
   ]
  },
  {
   "cell_type": "markdown",
   "metadata": {},
   "source": [
    "Exploratory data analysis before cleaning"
   ]
  },
  {
   "cell_type": "code",
   "execution_count": null,
   "metadata": {
    "scrolled": false
   },
   "outputs": [],
   "source": [
    "profile = ProfileReport(df, title=\"Pandas Profiling Report\")\n",
    "profile.to_file(\"reports/before_report.html\")"
   ]
  },
  {
   "cell_type": "markdown",
   "metadata": {},
   "source": [
    "Data cleaning"
   ]
  },
  {
   "cell_type": "code",
   "execution_count": null,
   "metadata": {},
   "outputs": [],
   "source": [
    "# Drop duplicates\n",
    "df.drop_duplicates('Title', inplace=True)\n",
    "\n",
    "# Rows without a defined technique are eliminated\n",
    "df = df[~df.Technique.isnull()].copy()\n",
    "\n",
    "# Null values\n",
    "df['Episodes'] = df['Episodes'].replace(np.nan, 1)\n",
    "df['Seasons'] = df['Seasons'].replace(np.nan, 1)\n",
    "df['Original Channel'] = df['Original Channel'].replace(np.nan, 'Unidentified')\n",
    "\n",
    "# Non-numeric values in numeric rows\n",
    "df['Seasons'] = pd.to_numeric(df['Seasons'], errors = 'coerce')\n",
    "df['Episodes'] = pd.to_numeric(df['Episodes'], errors = 'coerce')\n",
    "df.dropna(inplace = True)\n",
    "\n",
    "# If the final year is 'Present' it is replaced by 2023\n",
    "df['Final Year'] = df.loc[df['Final Year'] == 'Present', 'Final Year'] = 2023\n",
    "\n",
    "# Float to int\n",
    "df['Episodes'] = np.int_(df['Episodes'])\n",
    "df['Seasons'] = np.int_(df['Seasons'])\n",
    "df['Final Year'] = np.int_(df['Final Year'])\n",
    "\n",
    "df"
   ]
  },
  {
   "cell_type": "markdown",
   "source": [
    "Exploratory data analysis after cleaning"
   ],
   "metadata": {
    "collapsed": false
   }
  },
  {
   "cell_type": "code",
   "execution_count": null,
   "metadata": {},
   "outputs": [],
   "source": [
    "profile = ProfileReport(df, title=\"Pandas Profiling Report\")\n",
    "profile.to_file(\"reports/after_report.html\")"
   ]
  },
  {
   "cell_type": "markdown",
   "source": [
    "**Clustering: K-Means (relationship between the premiere year and the technique used)**"
   ],
   "metadata": {
    "collapsed": false
   }
  },
  {
   "cell_type": "markdown",
   "source": [
    "Convert the used technique into a numeric value"
   ],
   "metadata": {
    "collapsed": false
   }
  },
  {
   "cell_type": "code",
   "execution_count": null,
   "outputs": [],
   "source": [
    "le = LabelEncoder()\n",
    "technique_label = le.fit_transform(df['Technique'])"
   ],
   "metadata": {
    "collapsed": false
   }
  },
  {
   "cell_type": "markdown",
   "source": [
    "Define array to process"
   ],
   "metadata": {
    "collapsed": false
   }
  },
  {
   "cell_type": "code",
   "execution_count": null,
   "outputs": [],
   "source": [
    "x = technique_label\n",
    "y = df['Premiere Year'].values\n",
    "X = np.array(list(zip(x, y)))"
   ],
   "metadata": {
    "collapsed": false
   }
  },
  {
   "cell_type": "markdown",
   "source": [
    "Comparison between the technique and the corresponding value"
   ],
   "metadata": {
    "collapsed": false
   }
  },
  {
   "cell_type": "code",
   "execution_count": null,
   "outputs": [],
   "source": [
    "info = np.array(list(zip(x, df['Technique'])))\n",
    "info_sorted = info[np.argsort(info[:, 1])]\n",
    "\n",
    "# Unique rows\n",
    "unique_rows = np.unique(info_sorted, axis=0)\n",
    "unique_rows"
   ],
   "metadata": {
    "collapsed": false
   }
  },
  {
   "cell_type": "markdown",
   "source": [
    "Clusters and labels"
   ],
   "metadata": {
    "collapsed": false
   }
  },
  {
   "cell_type": "code",
   "execution_count": null,
   "outputs": [],
   "source": [
    "kmeans = KMeans(n_clusters=3)\n",
    "kmeans = kmeans.fit(X)\n",
    "labels = kmeans.predict(X)"
   ],
   "metadata": {
    "collapsed": false
   }
  },
  {
   "cell_type": "markdown",
   "source": [
    "Centroids and colors"
   ],
   "metadata": {
    "collapsed": false
   }
  },
  {
   "cell_type": "code",
   "execution_count": null,
   "outputs": [],
   "source": [
    "centroids = kmeans.cluster_centers_\n",
    "colors = [\"m.\", \"r.\",\"c.\", \"y.\", \"b.\"]"
   ],
   "metadata": {
    "collapsed": false
   }
  },
  {
   "cell_type": "markdown",
   "source": [
    "Label-based coordinate mapping"
   ],
   "metadata": {
    "collapsed": false
   }
  },
  {
   "cell_type": "code",
   "execution_count": null,
   "outputs": [],
   "source": [
    "for i in range(len(X)):\n",
    "    #print(\"Coordinate: \", X[i], \" Label: \", labels[i])\n",
    "    plt.plot(X[i][0], X[i][1], colors[labels[i]], markersize=10)\n",
    "\n",
    "plt.scatter(centroids[:,0], centroids[:,1], marker='*', s=150, linewidths=5, zorder=10)\n",
    "plt.show()"
   ],
   "metadata": {
    "collapsed": false
   }
  }
 ],
 "metadata": {
  "kernelspec": {
   "display_name": "Python 3 (ipykernel)",
   "language": "python",
   "name": "python3"
  },
  "language_info": {
   "codemirror_mode": {
    "name": "ipython",
    "version": 3
   },
   "file_extension": ".py",
   "mimetype": "text/x-python",
   "name": "python",
   "nbconvert_exporter": "python",
   "pygments_lexer": "ipython3",
   "version": "3.10.7"
  }
 },
 "nbformat": 4,
 "nbformat_minor": 1
}
